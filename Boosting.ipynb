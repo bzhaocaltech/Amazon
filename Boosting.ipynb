{
 "cells": [
  {
   "cell_type": "code",
   "execution_count": 1,
   "metadata": {
    "collapsed": true
   },
   "outputs": [],
   "source": [
    "from sklearn import tree\n",
    "from sklearn.ensemble import AdaBoostClassifier, GradientBoostingClassifier\n",
    "from sklearn.tree import DecisionTreeRegressor\n",
    "from cross_validate import CrossValidation\n",
    "import matplotlib.pyplot as plt\n",
    "import numpy as np\n",
    "import pickle\n",
    "%matplotlib inline\n",
    "\n",
    "# Seed the random number generator:\n",
    "np.random.seed(1)"
   ]
  },
  {
   "cell_type": "code",
   "execution_count": 2,
   "metadata": {
    "collapsed": false
   },
   "outputs": [],
   "source": [
    "# Load data\n",
    "x_train = pickle.load(open(\"x_train.p\", \"rb\"))\n",
    "y_train = pickle.load(open(\"y_train.p\", \"rb\"))\n",
    "x_test = pickle.load(open(\"x_test.p\", \"rb\"))\n",
    "x_train_1 = np.load(open(\"lasso_data/x_train_lasso_1.p\", \"rb\"))\n",
    "x_train_2 = np.load(open(\"lasso_data/x_train_lasso_2.p\", \"rb\"))\n",
    "x_train_3 = np.load(open(\"lasso_data/x_train_lasso_3.p\", \"rb\"))\n",
    "x_train_4 = np.load(open(\"lasso_data/x_train_lasso_4.p\", \"rb\"))\n",
    "x_train_5 = np.load(open(\"lasso_data/x_train_lasso_5.p\", \"rb\"))\n",
    "labels = pickle.load(open(\"word_labels.p\", \"rb\"))"
   ]
  },
  {
   "cell_type": "code",
   "execution_count": 3,
   "metadata": {
    "collapsed": true
   },
   "outputs": [],
   "source": [
    "def ada_suite(n_clfs, k_fold_cross_validation, x_data, y_data):\n",
    "    accuracies = []\n",
    "    print(\"Running gradient boosted decision tree with \" \n",
    "              + str(n_clfs) + \" weak regressors\")\n",
    "    print(\"and fold cross validation of: \" + str(k_fold_cross_validation))\n",
    "    cross_validated_data = CrossValidation(x_data, y_data, k_fold_cross_validation)\n",
    "    x_train, y_train = cross_validated_data.get_other_partitions(0)\n",
    "    x_test, y_test = cross_validated_data.get_partition(0)\n",
    "    clf = AdaBoostClassifier(n_estimators=n_clfs)\n",
    "    clf.fit(x_train, y_train)\n",
    "    accuracies.append(clf.score(x_test, y_test))\n",
    "    average_accuracy = np.mean(accuracies)\n",
    "    print(\"Average accuracy was \" + str(average_accuracy))\n",
    "    \n",
    "    return average_accuracy\n",
    "\n",
    "def gb_suite(n_clfs, k_fold_cross_validation, x_data, y_data):\n",
    "    accuracies = []\n",
    "    print(\"Running gradient boosted decision tree with \" \n",
    "              + str(n_clfs) + \" weak regressors\")\n",
    "    print(\"and fold cross validation of: \" + str(k_fold_cross_validation))\n",
    "    cross_validated_data = CrossValidation(x_data, y_data, k_fold_cross_validation)\n",
    "    x_train, y_train = cross_validated_data.get_other_partitions(0)\n",
    "    x_test, y_test = cross_validated_data.get_partition(0)\n",
    "    clf = GradientBoostingClassifier(n_estimators=n_clfs)\n",
    "    clf.fit(x_train, y_train)\n",
    "    accuracies.append(clf.score(x_test, y_test))\n",
    "    average_accuracy = np.mean(accuracies)\n",
    "    print(\"Average accuracy was \" + str(average_accuracy))\n",
    "    \n",
    "    return average_accuracy"
   ]
  },
  {
   "cell_type": "code",
   "execution_count": 4,
   "metadata": {
    "collapsed": false
   },
   "outputs": [
    {
     "name": "stdout",
     "output_type": "stream",
     "text": [
      "Running gradient boosted decision tree with 1000 weak regressors\n",
      "and fold cross validation of: 10\n",
      "Average accuracy was 0.8335\n",
      "\n",
      "Average score: 0.8335\n"
     ]
    }
   ],
   "source": [
    "acc = ada_suite(1000, 10, x_train_2, y_train)"
   ]
  },
  {
   "cell_type": "code",
   "execution_count": 5,
   "metadata": {
    "collapsed": false
   },
   "outputs": [
    {
     "name": "stdout",
     "output_type": "stream",
     "text": [
      "Running gradient boosted decision tree with 2000 weak regressors\n",
      "and fold cross validation of: 10\n",
      "Average accuracy was 0.817\n"
     ]
    }
   ],
   "source": [
    "acc = ada_suite(2000, 10, x_train_3, y_train)"
   ]
  },
  {
   "cell_type": "code",
   "execution_count": 6,
   "metadata": {
    "collapsed": false
   },
   "outputs": [
    {
     "name": "stdout",
     "output_type": "stream",
     "text": [
      "Running gradient boosted decision tree with 1000 weak regressors\n",
      "and fold cross validation of: 10\n",
      "Average accuracy was 0.8455\n"
     ]
    }
   ],
   "source": [
    "acc = gb_suite(1000, 10, x_train_2, y_train)"
   ]
  },
  {
   "cell_type": "code",
   "execution_count": null,
   "metadata": {
    "collapsed": false
   },
   "outputs": [
    {
     "name": "stdout",
     "output_type": "stream",
     "text": [
      "Running gradient boosted decision tree with 2000 weak regressors\n",
      "and fold cross validation of: 10\n"
     ]
    }
   ],
   "source": [
    "acc = gb_suite(2000, 10, x_train_2, y_train)"
   ]
  },
  {
   "cell_type": "code",
   "execution_count": null,
   "metadata": {
    "collapsed": true
   },
   "outputs": [],
   "source": []
  }
 ],
 "metadata": {
  "kernelspec": {
   "display_name": "Python 3",
   "language": "python",
   "name": "python3"
  },
  "language_info": {
   "codemirror_mode": {
    "name": "ipython",
    "version": 3
   },
   "file_extension": ".py",
   "mimetype": "text/x-python",
   "name": "python",
   "nbconvert_exporter": "python",
   "pygments_lexer": "ipython3",
   "version": "3.6.0"
  }
 },
 "nbformat": 4,
 "nbformat_minor": 2
}

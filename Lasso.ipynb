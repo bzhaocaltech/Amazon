{
 "cells": [
  {
   "cell_type": "markdown",
   "metadata": {},
   "source": [
    "Here, we use lasso regression to try to drive some of the weights to 0 as it is reasonable to assume that\n",
    "some words in the input may not be relevant and thus should be removed from the data.\n",
    "\n",
    "The lasso'd data (with some of the words removed) is outputted into the folder lasso_data/"
   ]
  },
  {
   "cell_type": "code",
   "execution_count": 1,
   "metadata": {
    "collapsed": true
   },
   "outputs": [],
   "source": [
    "# Imports\n",
    "import numpy as np\n",
    "from sklearn.linear_model import SGDClassifier\n",
    "import pickle"
   ]
  },
  {
   "cell_type": "code",
   "execution_count": 2,
   "metadata": {
    "collapsed": true
   },
   "outputs": [],
   "source": [
    "# Load the data\n",
    "x_train = pickle.load(open(\"x_train.p\", \"rb\"))\n",
    "y_train = pickle.load(open(\"y_train.p\", \"rb\"))\n",
    "x_test = pickle.load(open(\"x_test.p\", \"rb\"))\n",
    "word_labels = pickle.load(open(\"word_labels.p\", \"rb\"))"
   ]
  },
  {
   "cell_type": "code",
   "execution_count": 3,
   "metadata": {
    "collapsed": true
   },
   "outputs": [],
   "source": [
    "# Creates a linear model using l1 regularization with the given alpha and loss function\n",
    "# Fits the model on x_data and y_data.\n",
    "# Returns the final weights of the model\n",
    "def run_lasso(x_data, y_data, alpha, loss):\n",
    "    print(\"Running lasso with alpha = \" + str(alpha) + \" loss = \" + str(loss))\n",
    "    print(\"Using alpha = \" + str(alpha) + \" and loss = \" + str(loss))\n",
    "    \n",
    "    model = SGDClassifier(loss = loss, alpha = alpha, penalty = \"l1\")\n",
    "    model.fit(x_data, y_data)\n",
    "    \n",
    "    weights = model.coef_\n",
    "    return weights"
   ]
  },
  {
   "cell_type": "code",
   "execution_count": 4,
   "metadata": {
    "collapsed": true
   },
   "outputs": [],
   "source": [
    "# Given the weights from a lasso model and the word labels, returns those words\n",
    "# which were eliminated from the model (have weights of 0). \n",
    "def interpret_weights(weights, word_labels):\n",
    "    dead_values = []\n",
    "    \n",
    "    for i in range(len(weights)):\n",
    "        weight = weights[i]\n",
    "        if weight == 0:\n",
    "            dead_values.append(i)\n",
    "            \n",
    "            \n",
    "    print(\"Percent of words eliminated: \" + str(len(dead_values) / len(weights)))\n",
    "    print(\"Words eliminated: \")\n",
    "    for i in dead_values:\n",
    "        print(word_labels[i], end = \" \")"
   ]
  },
  {
   "cell_type": "code",
   "execution_count": 5,
   "metadata": {
    "collapsed": true
   },
   "outputs": [],
   "source": [
    "# Shaves the training set based on the lasso weights. Does this by getting rid of words with a\n",
    "# weight of 0. Pickles the modified dataset into filename\n",
    "def shave_training_set(lasso_weights, filename):\n",
    "    global x_train\n",
    "    global y_train\n",
    "    global x_test\n",
    "    global word_labels\n",
    "    \n",
    "    dead_values = []\n",
    "    new_x_train = np.copy(x_train)\n",
    "    new_x_test = np.copy(x_test)\n",
    "    new_word_labels = np.copy(word_labels)\n",
    "    \n",
    "    for i in range(len(weights)):\n",
    "        weight = weights[i]\n",
    "        if weight == 0:\n",
    "            dead_values.append(i)\n",
    "    \n",
    "    new_x_train = np.delete(new_x_train, dead_values, 1)\n",
    "    new_x_test = np.delete(new_x_test, dead_values, 1)\n",
    "    new_word_labels = np.delete(new_word_labels, dead_values)\n",
    "            \n",
    "    pickle.dump(new_x_train, open(\"lasso_data/x_train_\" + filename + \".p\", 'wb'))\n",
    "    pickle.dump(new_x_test, open(\"lasso_data/x_test_\" + filename + \".p\", 'wb'))\n",
    "    pickle.dump(new_word_labels, open(\"lasso_data/word_labels_\" + filename + \".p\", 'wb'))"
   ]
  },
  {
   "cell_type": "code",
   "execution_count": 6,
   "metadata": {
    "collapsed": false
   },
   "outputs": [
    {
     "name": "stdout",
     "output_type": "stream",
     "text": [
      "Running lasso with alpha = 0.01 loss = hinge\n",
      "Using alpha = 0.01 and loss = hinge\n",
      "Percent of words eliminated: 0.96\n",
      "Words eliminated: \n",
      "book one movi like veri time ha use onli work make realli stori first becaus look want think go cd film better ani way product song see could know also thing charact music mani say littl im review ever new never peopl watch doe back play bought give still find dvd need made got end old two take come interest put seem day ive thought sound lot cant everi purchas star found feel fan befor anoth qualiti start write someth version author worth show doesnt long part set last differ help must game classic novel keep listen order problem anyon expect actual page live real seri written price origin howev sinc hard plot right hope enough nice fun without though world easi amazon us big kid far person sure favorit month turn alway complet may believ pretti understand seen quit around bit cover man pictur edit point almost scene tell beauti said word video reader fact act away wait let friend place anyth learn chang whole happen reason second done yet came receiv record inform next call track idea true fit instead definit action piec pleas onc mean item miss small band everyth famili minut babi releas isnt wrong wish mayb son save couldnt copi funni guy high style size line heard wont probabl might less histori full sever voic power wasnt job case includ three least someon hear kind children name care run final everyon finish move diaper collect short begin ago stop perform hour absolut effect els follow total light abl togeth gener saw went special week especi happi pick young fine alreadi although replac school open experi entertain top night took gave coffe hold mind rock toy detail box rather becom awesom girl rate stuff titl boy age thank talk gift american simpli home excit hand half id stay 10 coupl base truli daughter leav player fall batteri left war chapter featur side youll entir lack ship child clay rest ok water unit women today extrem close either store hate basic class color print guess decid along deal goe felt descript present dure cours sing view christma wouldnt writer overal ill sens cannot tv lost surpris actor mr type cut main support check rememb usual cheap past exampl except god simpl fast english human woman etc suppos materi hit list compani dri singl add number design describ difficult fiction head hous consid servic bring provid pay issu heart creat develop adventur die easili opinion import havent imagin appear suggest unfortun told ye slow impress aw given question languag matter comput face often king spend continu arriv huge cool extra black kept disc john tale hot ask fantasi stand figur sometim laugh state later free stupid packag men car compar offer dark talent anim note incred level mention recent possibl realiz publish fantast agre touch valu refer forward pamper break direct text connect phone cost machin glad pop kill greatest brand four 12 20 clear sit system within fail wear avail eye screen cast beat attempt fill sad five paper sorri histor custom lyric contain horror forc explain instal manag unless humor certainli drive student effort plastic kindl tape strong card suck group cup clean practic caus produc artist earli adult confus charg blue christian comfort mix low date larg pass art emot wors sleep dog insid major longer previou husband annoy mysteri skip white magic danc perhap futur lord ring subject result fight control content comedi natur requir leak modern allow stick oh quickli exactli addit theyr librari lead pain hair cabl test notic bother tast moment radio soon sent air deserv camera send wife mother ann adapt studi model plu grow plan room inspir teach role older death decent wrote sell countri knew insight illustr 15 space attent 30 hobbit parent third ad theme master throughout taken messag research bibl expens mine pack season event period form walk busi warn appreci posit brother anyway rent handl choic format heavi instruct concept stone twist known shoe seller pull episod memori program spent predict mistak guid section sort dead condit scienc middl softwar quick paid audio due garbag weak junk standard relat apart answer bottom 100 printer dream wow polit avoid similar advertis forget okay arent vocal romanc truth speak none dull travel bed script broke cook sequel ball search area tivo deliv father warm amount scari masterpiec chanc late meet alon volum behind seriou normal relationship clearli burn fire gone brilliant sex soul market fli critic local error carri advic literatur batman twice hero troubl remind otherwis imag roll tune director youv beyond improv societi joke ms translat cute guitar alot lose doubt admit singer crap bluray nearli correct metal window obvious fascin current hook tire build involv super claim plug rip bare america mostli somewhat success themselv frustrat discov ear pure throw deep remov solid unlik skin satisfi 50 bodi centuri creativ battl faith comment suspens fell becam de train offic eragon flat weight graphic upon trip straight shame photo perfectli thin plain cat grade cultur shot evil dialogu michael blade step teacher mark uniqu trash citi vh bewar tool useless genr depth background switch red georg edg sweet sister despit process button front particular devic storylin cri hell averag respect bag onlin transfer french smell portray combin rang project green accur fix rare select imposs immedi broken colleg push toward across rice account introduct mess earth topic univers measur ridicul prefer comic stuck certain bunch defin typic limit option tolkien journey keurig la concert contact hollywood soundtrack serious share exist treat delight morn near credit digit captur mom lover loud refund self dissapoint forev struggl prove knowledg sourc ruin public charm town abil whether jam repeat teenag lesson drop jazz aspect jump summer flick murder brought regular shock secret complaint challeng halloween pair soni ten "
     ]
    }
   ],
   "source": [
    "# We are going to try 5 different lasso models\n",
    "weights = run_lasso(x_train, y_train, 1e-2, \"hinge\")[0]\n",
    "interpret_weights(weights, word_labels)\n",
    "shave_training_set(weights, \"lasso_1\")"
   ]
  },
  {
   "cell_type": "code",
   "execution_count": 7,
   "metadata": {
    "collapsed": false
   },
   "outputs": [
    {
     "name": "stdout",
     "output_type": "stream",
     "text": [
      "Running lasso with alpha = 0.001 loss = hinge\n",
      "Using alpha = 0.001 and loss = hinge\n",
      "Percent of words eliminated: 0.713\n",
      "Words eliminated: \n",
      "veri get ha realli becaus look think cd film way product song see know thing music mani say im review new peopl watch play give find dvd need got end old come ive sound lot cant everi purchas star feel fan befor anoth qualiti start write someth show long set last differ game listen order problem anyon actual live real seri written origin sinc hard right hope without world amazon big kid far person sure turn may believ pretti quit around cover man pictur point almost scene said word video reader fact wait place chang whole happen reason second done yet came record inform call true fit piec pleas onc mean small band babi releas wish son save couldnt funni guy high style size line wont probabl might less full sever power wasnt case includ three someon hear kind children care run finish move collect short begin ago hour absolut effect follow light abl togeth gener saw went special week especi pick young fine alreadi replac school open top night took gave coffe hold mind toy detail box girl rate stuff titl boy age gift american simpli home excit half id stay 10 coupl base truli daughter leav fall batteri war featur side youll entir ship child clay water unit women extrem close either store class color print decid along goe felt descript present dure cours view wouldnt overal ill sens tv lost surpris actor mr type cut main support check usual past except god english woman etc materi hit list compani dri singl add number describ fiction head hous consid servic provid issu heart develop adventur die opinion appear ye impress given languag matter comput face often king spend continu arriv huge extra black kept disc john tale hot ask fantasi stand figur sometim later free packag men car compar offer dark talent anim note level recent possibl realiz touch valu refer forward pamper break text connect phone cost machin glad pop kill greatest brand four 12 20 clear sit system within wear avail eye screen fill sad five histor custom lyric contain forc explain humor certainli drive student effort plastic kindl tape card suck group cup clean practic caus artist earli adult charg blue christian comfort mix low larg pass art sleep dog insid major longer previou husband mysteri white magic danc futur lord ring subject result fight content comedi natur requir allow oh quickli exactli addit theyr librari lead pain hair cabl notic bother tast moment radio soon sent air deserv send wife mother adapt studi model plu plan room teach role older death decent countri knew illustr 15 space attent 30 hobbit parent third ad theme master throughout taken messag research expens mine pack event period form walk busi warn appreci posit brother rent handl choic format heavi instruct known seller pull episod memori spent predict mistak guid section sort dead condit scienc middl softwar quick paid audio due garbag weak standard relat apart answer printer wow polit avoid similar forget okay arent vocal truth speak travel bed script cook sequel ball search father amount scari late meet alon volum seriou normal relationship clearli burn fire gone sex soul market fli critic local carri literatur twice hero troubl remind otherwis imag roll tune director youv beyond societi ms translat cute guitar lose doubt admit singer crap bluray nearli correct metal window current hook tire build involv super plug rip america mostli somewhat success themselv discov ear throw deep remov solid unlik skin 50 bodi centuri creativ battl faith comment suspens fell becam train offic weight graphic upon straight photo thin plain cat grade cultur shot evil dialogu michael blade step teacher mark uniqu trash citi vh tool genr depth background switch red georg edg sweet sister process button front particular devic storylin cri hell averag respect bag onlin transfer french smell portray rang project green fix rare select imposs immedi broken colleg push across rice account introduct earth topic univers measur prefer comic stuck certain bunch defin typic limit option tolkien journey keurig la concert contact hollywood soundtrack share exist treat delight morn near credit digit mom lover loud self forev struggl knowledg sourc ruin public charm town abil whether jam repeat teenag lesson drop jazz aspect jump summer flick murder regular shock complaint challeng halloween pair soni ten "
     ]
    }
   ],
   "source": [
    "weights = run_lasso(x_train, y_train, 1e-3, \"hinge\")[0]\n",
    "interpret_weights(weights, word_labels)\n",
    "shave_training_set(weights, \"lasso_2\")"
   ]
  },
  {
   "cell_type": "code",
   "execution_count": 8,
   "metadata": {
    "collapsed": false
   },
   "outputs": [
    {
     "name": "stdout",
     "output_type": "stream",
     "text": [
      "Running lasso with alpha = 0.0001 loss = hinge\n",
      "Using alpha = 0.0001 and loss = hinge\n",
      "Percent of words eliminated: 0.23\n",
      "Words eliminated: \n",
      "book wa one movi like time get hi use work want think go cd film ani product see music im never peopl find dvd need old sound lot found fan write show long differ game problem anyon actual written origin amazon kid turn believ pretti quit cover man pictur almost video fact wait friend chang whole reason second came call small band everyth releas wish son guy size wont three someon hear finish move saw pick young hold mind toy girl stuff home excit leav batteri clay class print along present view writer except god hit dri number creat suggest told matter king continu arriv huge black kept fantasi stand figur free car compar dark talent recent possibl forward direct text cost pop four 12 clear system within wear eye screen histor lyric forc instal certainli student card group cup larg pass emot previou fight quickli librari notic deserv teach older knew insight space parent throughout messag expens event walk posit heavi pull memori scienc answer bottom 100 polit arent romanc sequel volum seriou clearli sex market local advic twice hero remind imag tune director youv ms cute guitar lose metal window america success discov bodi creativ battl suspens fell eragon thin cat cultur michael teacher citi genr green fix rare colleg earth topic defin tolkien keurig la soundtrack morn credit mom loud struggl prove town drop jump regular ten "
     ]
    }
   ],
   "source": [
    "weights = run_lasso(x_train, y_train, 1e-4, \"hinge\")[0]\n",
    "interpret_weights(weights, word_labels)\n",
    "shave_training_set(weights, \"lasso_3\")"
   ]
  },
  {
   "cell_type": "code",
   "execution_count": 9,
   "metadata": {
    "collapsed": false
   },
   "outputs": [
    {
     "name": "stdout",
     "output_type": "stream",
     "text": [
      "Running lasso with alpha = 1e-05 loss = hinge\n",
      "Using alpha = 1e-05 and loss = hinge\n",
      "Percent of words eliminated: 0.117\n",
      "Words eliminated: \n",
      "thi book one like time even becaus think go cd film better album ani way song music say new watch dvd made got old interest lot cant found fan write differ expect real written origin hard far believ pretti around pictur away wait whole came piec mean wish son three someon hear begin hour special pick girl boy daughter batteri war clay rest women class goe cours except list dri provid ye impress matter face disc figur offer anim break clear sit system within screen dog major air teach role insight messag walk format known episod memori due bottom relationship clearli fire success skin fell cultur red despit toward account univers la credit self struggl pair soni "
     ]
    }
   ],
   "source": [
    "weights = run_lasso(x_train, y_train, 1e-5, \"hinge\")[0]\n",
    "interpret_weights(weights, word_labels)\n",
    "shave_training_set(weights, \"lasso_4\")"
   ]
  },
  {
   "cell_type": "code",
   "execution_count": 10,
   "metadata": {
    "collapsed": false
   },
   "outputs": [
    {
     "name": "stdout",
     "output_type": "stream",
     "text": [
      "Running lasso with alpha = 1e-06 loss = hinge\n",
      "Using alpha = 1e-06 and loss = hinge\n",
      "Percent of words eliminated: 0.014\n",
      "Words eliminated: \n",
      "cd doe last seen mysteri danc heavi instruct ball unlik citi select concert drop "
     ]
    }
   ],
   "source": [
    "weights = run_lasso(x_train, y_train, 1e-6, \"hinge\")[0]\n",
    "interpret_weights(weights, word_labels)\n",
    "shave_training_set(weights, \"lasso_5\")"
   ]
  },
  {
   "cell_type": "code",
   "execution_count": null,
   "metadata": {
    "collapsed": true
   },
   "outputs": [],
   "source": []
  }
 ],
 "metadata": {
  "kernelspec": {
   "display_name": "Python 3",
   "language": "python",
   "name": "python3"
  },
  "language_info": {
   "codemirror_mode": {
    "name": "ipython",
    "version": 3
   },
   "file_extension": ".py",
   "mimetype": "text/x-python",
   "name": "python",
   "nbconvert_exporter": "python",
   "pygments_lexer": "ipython3",
   "version": "3.6.0"
  }
 },
 "nbformat": 4,
 "nbformat_minor": 2
}

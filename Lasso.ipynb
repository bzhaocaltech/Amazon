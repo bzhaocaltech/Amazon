{
 "cells": [
  {
   "cell_type": "markdown",
   "metadata": {},
   "source": [
    "Here, we use lasso regression to try to drive some of the weights to 0 as it is reasonable to assume that\n",
    "some words in the input may not be relevant and thus should be removed from the data.\n",
    "\n",
    "The lasso'd data (with some of the words removed) is outputted into the folder lasso_data/"
   ]
  },
  {
   "cell_type": "code",
   "execution_count": 1,
   "metadata": {},
   "outputs": [],
   "source": [
    "# Imports\n",
    "import numpy as np\n",
    "from sklearn.linear_model import SGDClassifier\n",
    "import pickle"
   ]
  },
  {
   "cell_type": "code",
   "execution_count": 2,
   "metadata": {},
   "outputs": [],
   "source": [
    "# Load the data\n",
    "x_train = pickle.load(open(\"x_train.p\", \"rb\"))\n",
    "y_train = pickle.load(open(\"y_train.p\", \"rb\"))\n",
    "x_test = pickle.load(open(\"x_test.p\", \"rb\"))\n",
    "word_labels = pickle.load(open(\"word_labels.p\", \"rb\"))"
   ]
  },
  {
   "cell_type": "code",
   "execution_count": 3,
   "metadata": {},
   "outputs": [],
   "source": [
    "# Creates a linear model using l1 regularization with the given alpha and loss function\n",
    "# Fits the model on x_data and y_data.\n",
    "# Returns the final weights of the model\n",
    "def run_lasso(x_data, y_data, alpha, loss):\n",
    "    print(\"Running lasso with alpha = \" + str(alpha) + \" loss = \" + str(loss))\n",
    "    print(\"Using alpha = \" + str(alpha) + \" and loss = \" + str(loss))\n",
    "    \n",
    "    model = SGDClassifier(loss = loss, alpha = alpha, penalty = \"l1\", max_iter = 2500, tol = 1e-3)\n",
    "    model.fit(x_data, y_data)\n",
    "    \n",
    "    weights = model.coef_\n",
    "    return weights"
   ]
  },
  {
   "cell_type": "code",
   "execution_count": 4,
   "metadata": {},
   "outputs": [],
   "source": [
    "# Given the weights from a lasso model and the word labels, returns those words\n",
    "# which were eliminated from the model (have weights of 0). \n",
    "def interpret_weights(weights, word_labels):\n",
    "    dead_values = []\n",
    "    \n",
    "    for i in range(len(weights)):\n",
    "        weight = weights[i]\n",
    "        if weight == 0:\n",
    "            dead_values.append(i)\n",
    "            \n",
    "            \n",
    "    print(\"Percent of words eliminated: \" + str(len(dead_values) / len(weights)))\n",
    "    print(\"Words eliminated: \")\n",
    "    for i in dead_values:\n",
    "        print(word_labels[i], end = \" \")"
   ]
  },
  {
   "cell_type": "code",
   "execution_count": 5,
   "metadata": {},
   "outputs": [],
   "source": [
    "# Shaves the training set based on the lasso weights. Does this by getting rid of words with a\n",
    "# weight of 0. Pickles the modified dataset into filename\n",
    "def shave_training_set(lasso_weights, filename):\n",
    "    global x_train\n",
    "    global y_train\n",
    "    global x_test\n",
    "    global word_labels\n",
    "    \n",
    "    dead_values = []\n",
    "    new_x_train = np.copy(x_train)\n",
    "    new_x_test = np.copy(x_test)\n",
    "    new_word_labels = np.copy(word_labels)\n",
    "    \n",
    "    for i in range(len(weights)):\n",
    "        weight = weights[i]\n",
    "        if weight == 0:\n",
    "            dead_values.append(i)\n",
    "    \n",
    "    new_x_train = np.delete(new_x_train, dead_values, 1)\n",
    "    new_x_test = np.delete(new_x_test, dead_values, 1)\n",
    "    new_word_labels = np.delete(new_word_labels, dead_values)\n",
    "            \n",
    "    pickle.dump(new_x_train, open(\"lasso_data/x_train_\" + filename + \".p\", 'wb'))\n",
    "    pickle.dump(new_x_test, open(\"lasso_data/x_test_\" + filename + \".p\", 'wb'))\n",
    "    pickle.dump(new_word_labels, open(\"lasso_data/word_labels_\" + filename + \".p\", 'wb'))"
   ]
  },
  {
   "cell_type": "code",
   "execution_count": 6,
   "metadata": {},
   "outputs": [
    {
     "name": "stdout",
     "output_type": "stream",
     "text": [
      "Running lasso with alpha = 0.01 loss = hinge\n",
      "Using alpha = 0.01 and loss = hinge\n",
      "Percent of words eliminated: 0.959\n",
      "Words eliminated: \n",
      "book one movi like veri time ha hi use work make realli stori first much becaus look want think go year cd film better album ani way product song see could know also thing charact mani say littl im review ever new never peopl watch doe back play bought give still find dvd need made got end old two take come interest put day ive thought sound lot cant everi purchas star found feel fan befor anoth qualiti start write someth author worth show long part set last differ help game classic novel keep listen order problem anyon expect actual page live real seri written price origin howev sinc hard plot right hope enough nice fun without though world easi amazon us big kid far person sure month turn alway complet may believ pretti understand seen quit around bit cover man pictur edit point almost scene tell beauti said word video reader fact act away wait let friend place anyth learn chang whole happen reason second done yet came receiv record inform next call track idea true fit instead definit action piec pleas onc mean item miss small band everyth famili minut babi releas isnt wrong highli wish mayb son save couldnt copi funni guy high style size line heard wont probabl might less histori full sever voic power wasnt job case includ three least someon hear kind children name care run final everyon finish move diaper collect short begin ago stop perform hour absolut effect els follow total light abl togeth gener saw went special week especi happi pick young fine horribl alreadi although replac school open experi entertain top night took gave coffe hold mind rock toy detail box rather becom girl rate stuff titl boy age thank talk gift american simpli home excit hand half id stay 10 coupl base truli daughter leav player fall batteri left war chapter featur side youll entir lack ship child clay rest ok water unit women today extrem close either store hate basic class color print guess decid along deal goe felt descript present dure cours sing view christma wouldnt writer overal ill sens cannot tv lost surpris actor mr type cut main support check rememb usual cheap past exampl except god simpl fast english human woman etc suppos materi hit list compani dri singl add number design describ difficult fiction head hous consid servic bring provid pay issu heart creat develop adventur die easili opinion import havent imagin appear suggest unfortun told ye slow impress aw given question languag matter comput face often king spend continu arriv huge cool extra black kept disc john tale hot ask fantasi stand figur sometim laugh state later free stupid packag men car compar offer dark talent anim note incred level mention recent possibl realiz publish fantast agre touch valu refer forward pamper break direct text connect phone cost machin glad pop kill greatest brand four 12 20 clear sit system within fail wear avail eye screen cast beat attempt fill sad five paper sorri histor custom lyric contain horror forc explain instal manag unless humor certainli drive student effort plastic kindl tape strong card suck group cup clean practic caus produc artist earli adult confus charg blue christian comfort mix low date larg pass art emot wors sleep dog insid major longer previou husband annoy mysteri skip white magic danc perhap futur lord ring subject result fight control content comedi natur requir leak modern allow stick oh quickli exactli addit theyr librari lead pain hair cabl test notic bother tast moment radio soon sent air deserv camera send wife mother ann adapt studi model plu grow plan room poorli inspir teach role older death decent wrote sell countri knew insight illustr 15 space attent 30 hobbit parent third ad theme master throughout taken messag research bibl expens mine pack season event period form walk busi warn appreci posit brother anyway rent handl choic format heavi instruct concept stone twist known shoe seller pull episod memori program spent predict mistak guid section sort dead condit scienc middl softwar quick paid audio due garbag weak junk standard relat apart answer bottom 100 printer dream wow polit avoid similar advertis forget okay arent vocal romanc truth speak none dull travel bed script broke cook sequel ball search area tivo deliv father warm amount scari masterpiec chanc late meet alon volum behind seriou normal relationship clearli burn fire gone brilliant sex soul market fli critic local error carri advic literatur batman twice hero troubl remind otherwis imag roll tune director youv beyond improv societi joke ms translat cute guitar alot lose doubt admit singer crap bluray nearli correct metal window obvious fascin current hook tire build involv super claim plug rip bare america mostli somewhat success themselv frustrat discov ear pure throw deep remov solid unlik skin satisfi 50 bodi centuri creativ battl faith comment suspens fell becam de train offic eragon flat weight graphic upon trip straight shame photo perfectli thin plain cat grade cultur shot evil dialogu michael blade step teacher mark uniqu trash citi vh bewar tool useless genr depth background switch red georg edg sweet sister despit process button front particular devic storylin cri hell averag respect bag onlin transfer french smell portray combin rang project green accur fix rare select imposs immedi broken colleg push toward across rice account introduct mess earth topic univers measur ridicul prefer comic stuck certain bunch defin typic limit option tolkien journey keurig la concert contact hollywood soundtrack serious share exist treat delight morn near credit digit captur mom lover loud refund self dissapoint forev struggl prove knowledg sourc ruin public charm town abil whether jam repeat teenag lesson drop jazz aspect jump summer flick murder brought regular shock secret complaint challeng halloween pair soni ten "
     ]
    }
   ],
   "source": [
    "# We are going to try 5 different lasso models\n",
    "weights = run_lasso(x_train, y_train, 1e-2, \"hinge\")[0]\n",
    "interpret_weights(weights, word_labels)\n",
    "shave_training_set(weights, \"lasso_1\")"
   ]
  },
  {
   "cell_type": "code",
   "execution_count": 7,
   "metadata": {},
   "outputs": [
    {
     "name": "stdout",
     "output_type": "stream",
     "text": [
      "Running lasso with alpha = 0.001 loss = hinge\n",
      "Using alpha = 0.001 and loss = hinge\n",
      "Percent of words eliminated: 0.721\n",
      "Words eliminated: \n",
      "book one ha hi use work make stori becaus think go cd film ani way product song see know thing music mani say review new peopl watch play give find dvd need made got end come interest lot cant everi purchas star found fan qualiti start write show long part last differ order actual page real seri written origin sinc hard right though big kid far sure turn may believ pretti seen quit around cover man pictur point almost scene tell said word video reader fact act away wait place chang whole reason second done yet came receiv record next call track true fit piec pleas mean band everyth babi releas wish son save couldnt copi guy style size line heard wont probabl might less full sever voic includ three hear kind children name care run finish move collect short begin perform hour absolut effect els follow abl togeth gener saw special week happi pick young fine although replac open took gave hold mind toy box girl stuff boy american simpli excit hand id stay 10 coupl truli daughter leav batteri left war featur side youll entir child clay rest water unit women today extrem close class color decid along goe felt descript present dure cours sing view christma overal ill sens tv lost actor mr type cut main check usual past exampl except god english human woman etc hit list dri singl number design describ fiction head hous consid servic provid pay issu creat develop die easili opinion imagin appear suggest told ye impress given question languag matter comput face often king spend continu arriv huge extra black kept disc john hot ask fantasi stand figur sometim state later free packag men car compar offer dark talent anim note incred level mention recent possibl realiz agre valu refer forward pamper break direct text connect phone cost machin pop kill greatest brand four 12 20 clear sit system within wear avail eye screen cast beat fill five paper histor lyric contain horror forc explain instal manag humor certainli drive student plastic tape strong card group cup clean practic caus produc artist earli adult charg blue christian comfort mix low date larg pass art emot sleep dog insid major longer previou mysteri white magic danc perhap futur lord ring subject result fight control content comedi requir leak modern allow stick oh quickli addit theyr librari lead pain hair cabl notic tast moment radio soon sent air deserv camera send wife mother adapt studi model plu grow plan room teach role older death decent wrote countri knew insight illustr 15 space 30 parent third ad theme master throughout taken messag research expens mine pack event period form walk busi posit brother anyway rent handl choic format heavi instruct concept stone twist known shoe seller pull episod memori program spent predict mistak guid section sort dead scienc middl softwar quick audio due weak standard relat apart answer bottom 100 dream wow polit similar advertis forget arent vocal romanc truth speak none travel bed script cook sequel ball search area deliv warm amount scari masterpiec chanc late meet alon volum behind seriou relationship clearli burn fire gone sex soul market fli critic local carri advic literatur twice hero troubl remind otherwis imag roll tune director youv beyond improv societi ms translat cute guitar alot lose doubt admit singer bluray nearli correct metal window current hook tire build involv super plug rip america mostli somewhat success themselv frustrat discov ear pure throw deep remov unlik skin 50 bodi centuri creativ battl faith comment suspens fell becam train offic eragon weight graphic upon trip straight shame photo thin plain cat grade cultur shot evil dialogu michael step teacher mark citi vh tool genr depth background switch red georg edg sweet sister despit process button front particular devic storylin cri hell averag respect bag onlin transfer french smell portray combin rang project green accur fix rare select imposs immedi colleg push toward across rice account introduct earth topic univers measur prefer stuck certain bunch defin typic limit option tolkien journey keurig la concert hollywood soundtrack share exist treat delight morn near credit digit captur mom lover loud self forev struggl prove knowledg sourc ruin public charm town abil whether jam repeat teenag lesson drop jazz aspect jump summer flick murder brought regular secret challeng halloween pair soni ten "
     ]
    }
   ],
   "source": [
    "weights = run_lasso(x_train, y_train, 1e-3, \"hinge\")[0]\n",
    "interpret_weights(weights, word_labels)\n",
    "shave_training_set(weights, \"lasso_2\")"
   ]
  },
  {
   "cell_type": "code",
   "execution_count": 8,
   "metadata": {},
   "outputs": [
    {
     "name": "stdout",
     "output_type": "stream",
     "text": [
      "Running lasso with alpha = 0.0001 loss = hinge\n",
      "Using alpha = 0.0001 and loss = hinge\n",
      "Percent of words eliminated: 0.265\n",
      "Words eliminated: \n",
      "thi book like ha work stori think cd ani product song see know thing music review new peopl watch give find dvd need got old star fan qualiti start differ game actual origin big kid turn may believ quit around cover man almost video reason second done came record fit pleas band babi wish son copi heard wont probabl full three someon finish move hour saw special open hold mind toy home excit batteri clay rest women extrem print goe present cours christma sens actor main except god human etc hit describ hous servic provid opinion face continu extra black kept disc fantasi stand packag men car offer dark talent possibl refer phone cost greatest 12 clear system within wear avail screen fill histor custom instal card cup clean larg art emot major longer modern oh quickli addit librari lead pain notic moment deserv mother adapt model plu teach role older knew insight 15 ad throughout messag expens period form walk busi format heavi seller pull episod program section softwar due relat answer printer dream polit advertis arent romanc speak cook sequel search father chanc volum seriou clearli fire market fli carri literatur twice remind tune director societi ms cute doubt correct metal tire build somewhat success discov unlik skin 50 bodi battl fell train weight upon photo thin plain cultur shot michael step teacher citi tool genr depth red georg sister bag smell project accur select colleg push toward account univers measur prefer certain defin option keurig la exist morn credit digit loud struggl town whether repeat drop murder regular challeng halloween pair soni "
     ]
    }
   ],
   "source": [
    "weights = run_lasso(x_train, y_train, 1e-4, \"hinge\")[0]\n",
    "interpret_weights(weights, word_labels)\n",
    "shave_training_set(weights, \"lasso_3\")"
   ]
  },
  {
   "cell_type": "code",
   "execution_count": 9,
   "metadata": {},
   "outputs": [
    {
     "name": "stdout",
     "output_type": "stream",
     "text": [
      "Running lasso with alpha = 1e-05 loss = hinge\n",
      "Using alpha = 1e-05 and loss = hinge\n",
      "Percent of words eliminated: 0.321\n",
      "Words eliminated: \n",
      "book one read movi veri time ha hi onli work make realli stori look want think go year cd film album ani product song see know thing music mani say littl im review ever new never peopl watch back play still find dvd need made got take day ive lot cant purchas star fan befor start write long differ game expect actual real origin big turn may believ pretti understand quit around cover man pictur almost word reader fact away wait place chang happen second done yet came next call track fit pleas mean item band babi releas wish son guy size line heard probabl full sever voic case three hear finish move diaper collect begin perform hour effect follow gener saw special pick young fine alreadi open gave hold mind girl rate boy american home 10 daughter batteri war featur clay water unit women color along goe present view christma actor cut main check past except god english woman etc dri number fiction head servic provid creat develop import ye given languag face often king spend continu arriv huge black disc fantasi stand free packag men compar dark talent anim note mention recent touch break direct phone cost four 20 clear sit system within wear screen histor lyric contain instal humor certainli card adult larg pass art emot dog major longer previou mysteri danc control comedi modern oh lead pain cabl test notic mother ann studi model plu role older 15 space ad master throughout messag expens busi posit anyway handl instruct known seller pull program section scienc due relat answer printer polit arent speak sequel search chanc volum clearli fire market literatur twice tune director societi cute lose doubt bluray metal tire discov unlik skin 50 bodi comment fell train upon photo cultur shot michael step citi tool switch sister smell colleg push account topic measur prefer option keurig la concert soundtrack digit loud struggl drop regular halloween pair "
     ]
    }
   ],
   "source": [
    "weights = run_lasso(x_train, y_train, 1e-5, \"hinge\")[0]\n",
    "interpret_weights(weights, word_labels)\n",
    "shave_training_set(weights, \"lasso_4\")"
   ]
  },
  {
   "cell_type": "code",
   "execution_count": 10,
   "metadata": {},
   "outputs": [
    {
     "name": "stdout",
     "output_type": "stream",
     "text": [
      "Running lasso with alpha = 1e-06 loss = hinge\n",
      "Using alpha = 1e-06 and loss = hinge\n",
      "Percent of words eliminated: 0.208\n",
      "Words eliminated: \n",
      "thi wa one read like veri get work make stori want album product see thing say new peopl doe play give made purchas befor anoth start game problem anyon sinc enough nice amazon big kid person seen around cover pictur word whole happen reason came record track true fit piec item band wish style size heard wont less full wasnt kind finish diaper collect stop perform hour saw week pick young alreadi open took gave coffe mind toy girl boy american excit 10 daughter batteri featur water print goe descript present ill actor check english woman compani describ servic provid creat opinion ye comput king arriv black disc fantasi figur car dark talent recent agre refer break cost kill clear wear avail eye screen group cup charg low date larg pass emot magic danc subject modern quickli lead pain radio soon air model plu room throughout walk busi known seller pull section dead standard printer forget speak ball search volum behind clearli fire fli carri twice director societi cute guitar nearli involv success discov unlik skin battl comment de train weight upon straight cultur michael step citi tool red georg rang project green accur select toward account topic measur option keurig concert morn digit struggl regular halloween pair "
     ]
    }
   ],
   "source": [
    "weights = run_lasso(x_train, y_train, 1e-6, \"hinge\")[0]\n",
    "interpret_weights(weights, word_labels)\n",
    "shave_training_set(weights, \"lasso_5\")"
   ]
  }
 ],
 "metadata": {
  "kernelspec": {
   "display_name": "Python 3",
   "language": "python",
   "name": "python3"
  },
  "language_info": {
   "codemirror_mode": {
    "name": "ipython",
    "version": 3
   },
   "file_extension": ".py",
   "mimetype": "text/x-python",
   "name": "python",
   "nbconvert_exporter": "python",
   "pygments_lexer": "ipython3",
   "version": "3.5.2"
  }
 },
 "nbformat": 4,
 "nbformat_minor": 2
}

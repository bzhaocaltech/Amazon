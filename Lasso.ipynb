{
 "cells": [
  {
   "cell_type": "markdown",
   "metadata": {},
   "source": [
    "Here, we use lasso regression to try to drive some of the weights to 0 as it is reasonable to assume that\n",
    "some words in the input may not be relevant and thus should be removed from the data.\n",
    "\n",
    "The lasso'd data (with some of the words removed) is outputted into the folder lasso_data/"
   ]
  },
  {
   "cell_type": "code",
   "execution_count": 1,
   "metadata": {},
   "outputs": [],
   "source": [
    "# Imports\n",
    "import numpy as np\n",
    "from sklearn.linear_model import SGDClassifier\n",
    "import pickle"
   ]
  },
  {
   "cell_type": "code",
   "execution_count": 2,
   "metadata": {},
   "outputs": [],
   "source": [
    "# Load the data\n",
    "x_train = pickle.load(open(\"x_train.p\", \"rb\"))\n",
    "y_train = pickle.load(open(\"y_train.p\", \"rb\"))\n",
    "x_test = pickle.load(open(\"x_test.p\", \"rb\"))\n",
    "word_labels = pickle.load(open(\"word_labels.p\", \"rb\"))"
   ]
  },
  {
   "cell_type": "code",
   "execution_count": 10,
   "metadata": {},
   "outputs": [],
   "source": [
    "# Creates a linear model using l1 regularization with the given alpha and loss function\n",
    "# Fits the model on x_data and y_data.\n",
    "# Returns the final weights of the model\n",
    "def run_lasso(x_data, y_data, alpha, loss):\n",
    "    print(\"Running lasso with alpha = \" + str(alpha) + \" loss = \" + str(loss))\n",
    "    print(\"Using alpha = \" + str(alpha) + \" and loss = \" + str(loss))\n",
    "    if loss == \"hinge\":\n",
    "        tol = 1e-3\n",
    "        max_iter = 2500\n",
    "    else:\n",
    "        tol = 5e-3\n",
    "        max_iter = 3000\n",
    "    \n",
    "    model = SGDClassifier(loss = loss, alpha = alpha, penalty = \"l1\", max_iter = max_iter, tol = tol)\n",
    "    model.fit(x_data, y_data)\n",
    "    \n",
    "    weights = model.coef_\n",
    "    return weights"
   ]
  },
  {
   "cell_type": "code",
   "execution_count": 4,
   "metadata": {},
   "outputs": [],
   "source": [
    "# Given the weights from a lasso model and the word labels, returns those words\n",
    "# which were eliminated from the model (have weights of 0). \n",
    "def interpret_weights(weights, word_labels):\n",
    "    dead_values = []\n",
    "    \n",
    "    for i in range(len(weights)):\n",
    "        weight = weights[i]\n",
    "        if weight == 0:\n",
    "            dead_values.append(i)\n",
    "            \n",
    "            \n",
    "    print(\"Percent of words eliminated: \" + str(len(dead_values) / len(weights)))\n",
    "    print(\"Words eliminated: \")\n",
    "    for i in dead_values:\n",
    "        print(word_labels[i], end = \" \")"
   ]
  },
  {
   "cell_type": "code",
   "execution_count": 5,
   "metadata": {},
   "outputs": [],
   "source": [
    "# Shaves the training set based on the lasso weights. Does this by getting rid of words with a\n",
    "# weight of 0. Pickles the modified dataset into filename\n",
    "def shave_training_set(lasso_weights, filename):\n",
    "    global x_train\n",
    "    global y_train\n",
    "    global x_test\n",
    "    global word_labels\n",
    "    \n",
    "    dead_values = []\n",
    "    new_x_train = np.copy(x_train)\n",
    "    new_x_test = np.copy(x_test)\n",
    "    new_word_labels = np.copy(word_labels)\n",
    "    \n",
    "    for i in range(len(weights)):\n",
    "        weight = weights[i]\n",
    "        if weight == 0:\n",
    "            dead_values.append(i)\n",
    "    \n",
    "    new_x_train = np.delete(new_x_train, dead_values, 1)\n",
    "    new_x_test = np.delete(new_x_test, dead_values, 1)\n",
    "    new_word_labels = np.delete(new_word_labels, dead_values)\n",
    "            \n",
    "    pickle.dump(new_x_train, open(\"lasso_data/x_train_\" + filename + \".p\", 'wb'))\n",
    "    pickle.dump(new_x_test, open(\"lasso_data/x_test_\" + filename + \".p\", 'wb'))\n",
    "    pickle.dump(new_word_labels, open(\"lasso_data/word_labels_\" + filename + \".p\", 'wb'))"
   ]
  },
  {
   "cell_type": "code",
   "execution_count": 6,
   "metadata": {},
   "outputs": [
    {
     "name": "stdout",
     "output_type": "stream",
     "text": [
      "Running lasso with alpha = 0.01 loss = hinge\n",
      "Using alpha = 0.01 and loss = hinge\n",
      "Percent of words eliminated: 0.961\n",
      "Words eliminated: \n",
      "book one movi like time ha use work make realli stori first becaus look want think go cd film better album ani way product song see could know also thing charact music mani say littl im review ever new never peopl watch doe back play bought give still find dvd need made got end old two take come interest put seem day ive life thought sound lot cant everi purchas star found feel fan befor anoth qualiti start write someth version author worth show whi doesnt long part set last differ help must game classic novel keep listen order problem anyon expect actual page live real seri written price origin howev sinc hard plot right hope enough nice without though world amazon us big kid far person sure month turn alway complet may believ pretti understand seen quit around bit cover man pictur edit point almost scene tell said word video reader fact act away wait let friend place anyth learn chang whole happen reason second done yet came receiv record inform next call track idea true fit instead definit action piec pleas onc mean item miss small band everyth famili minut babi releas isnt wrong highli wish mayb son save couldnt copi funni guy high style size line heard wont probabl might less histori full sever voic power wasnt job case includ three least someon hear kind children name care run final everyon finish move diaper collect short begin ago stop perform hour terribl absolut effect els follow total light abl togeth gener saw went special week especi happi pick young fine horribl alreadi although replac school open experi entertain top night took gave coffe hold mind rock toy detail box rather becom awesom girl rate stuff titl boy age thank talk gift american simpli home excit hand half id stay 10 coupl base truli daughter leav player fall batteri left war chapter featur side youll entir lack ship child clay rest ok water unit women today extrem close either store hate basic class color print guess decid along deal goe felt descript present dure cours sing view christma wouldnt writer overal ill sens cannot tv lost surpris actor mr type cut main support check rememb usual cheap past exampl except god simpl fast english human woman etc suppos materi hit list compani dri singl add number design describ difficult fiction head hous consid servic bring provid pay issu heart creat develop adventur die easili opinion import havent imagin appear suggest unfortun told ye slow impress aw given question languag matter comput face often king spend continu arriv huge cool extra black kept disc john tale hot ask fantasi stand figur sometim laugh state later free stupid packag men car compar offer dark talent anim note incred level mention recent possibl realiz publish fantast agre touch valu refer forward pamper break direct text connect phone cost machin glad pop kill greatest brand four 12 20 clear sit system within fail wear avail eye screen cast beat attempt fill sad five paper sorri histor custom lyric contain horror forc explain instal manag unless humor certainli drive student effort plastic kindl tape strong card suck group cup clean practic caus produc artist earli adult confus charg blue christian comfort mix low date larg pass art emot wors sleep dog insid major longer previou husband annoy mysteri skip white magic danc perhap futur lord ring subject result fight control content comedi natur requir leak modern allow stick oh quickli exactli addit theyr librari lead pain hair cabl test notic bother tast moment radio soon sent air deserv camera send wife mother ann adapt studi model plu grow plan room poorli inspir teach role older death decent wrote sell countri knew insight illustr 15 space attent 30 hobbit parent third ad theme master throughout taken messag research bibl expens mine pack season event period form walk busi warn appreci posit brother anyway rent handl choic format heavi instruct concept stone twist known shoe seller pull episod memori program spent predict mistak guid section sort dead condit scienc middl softwar quick paid audio due garbag weak junk standard relat apart answer bottom 100 printer dream wow polit avoid similar advertis forget okay arent vocal romanc truth speak none dull travel bed script broke cook sequel ball search area tivo deliv father warm amount scari masterpiec chanc late meet alon volum behind seriou normal relationship clearli burn fire gone brilliant sex soul market fli critic local error carri advic literatur batman twice hero troubl remind otherwis imag roll tune director youv beyond improv societi joke ms translat cute guitar alot lose doubt admit singer crap bluray nearli correct metal window obvious fascin current hook tire build involv super claim plug rip bare america mostli somewhat success themselv frustrat discov ear pure throw deep remov solid unlik skin satisfi 50 bodi centuri creativ battl faith comment suspens fell becam de train offic eragon flat weight graphic upon trip straight shame photo perfectli thin plain cat grade cultur shot evil dialogu michael blade step teacher mark uniqu trash citi vh bewar tool useless genr depth background switch red georg edg sweet sister despit process button front particular devic storylin cri hell averag respect bag onlin transfer french smell portray combin rang project green accur fix rare select imposs immedi broken colleg push toward across rice account introduct mess earth topic univers measur ridicul prefer comic stuck certain bunch defin typic limit option tolkien journey keurig la concert contact hollywood soundtrack serious share exist treat delight morn near credit digit captur mom lover loud refund self dissapoint forev struggl prove knowledg sourc ruin public charm town abil whether jam repeat teenag lesson drop jazz aspect jump summer flick murder brought regular shock secret complaint challeng halloween pair soni ten "
     ]
    }
   ],
   "source": [
    "# We are going to try 5 different lasso models\n",
    "weights = run_lasso(x_train, y_train, 1e-2, \"hinge\")[0]\n",
    "interpret_weights(weights, word_labels)\n",
    "shave_training_set(weights, \"lasso_1\")"
   ]
  },
  {
   "cell_type": "code",
   "execution_count": 7,
   "metadata": {},
   "outputs": [
    {
     "name": "stdout",
     "output_type": "stream",
     "text": [
      "Running lasso with alpha = 0.001 loss = hinge\n",
      "Using alpha = 0.001 and loss = hinge\n",
      "Percent of words eliminated: 0.709\n",
      "Words eliminated: \n",
      "one use work make becaus think go cd film better ani product song see know thing mani say review never peopl watch back play give find need got end come thought cant star found fan anoth qualiti start long part differ game novel order actual real seri written origin sinc hard right big kid far person sure turn may believ pretti quit around cover man pictur point almost word video reader away wait friend place anyth chang whole reason second done yet came record next call track true fit piec pleas mean small band everyth babi releas isnt wish son save couldnt copi guy style size line heard wont probabl might less full sever voic power three someon hear name care run final finish move collect short begin perform hour absolut effect els follow total light abl gener saw went special week especi pick young fine replac open top took gave coffe hold mind rock toy girl rate stuff boy age american simpli home excit hand id stay 10 coupl base daughter leav player batteri war featur side youll entir ship child clay rest women close store class color print decid along goe felt descript present dure cours sing view christma ill sens tv actor type cut main support check usual cheap past exampl except god english woman etc suppos hit list compani dri singl add number design describ fiction head hous consid servic bring provid issu heart creat develop die easili opinion import imagin appear suggest told ye impress given question languag matter comput face often king spend continu arriv huge extra black kept disc tale ask fantasi stand figur sometim later free packag men car compar offer dark talent anim note incred level mention recent possibl realiz agre valu refer forward pamper break direct text connect phone cost machin pop kill brand four 12 20 clear sit system within wear avail eye screen cast fill five histor lyric contain horror forc explain instal humor certainli drive student effort plastic kindl tape strong card group cup clean practic caus produc artist earli adult charg blue christian mix low date larg pass art emot sleep dog insid major longer previou mysteri white magic futur lord ring subject result fight control comedi natur requir leak modern allow oh quickli addit theyr librari lead pain hair cabl test notic tast moment radio soon sent air deserv camera wife mother adapt studi model plu plan room teach role older decent wrote countri knew insight illustr 15 space attent 30 parent third ad theme master throughout taken messag research expens mine pack event period form walk busi posit brother anyway rent handl choic format heavi instruct concept known seller pull episod memori program spent predict mistak guid section sort dead condit scienc middl softwar quick paid audio due garbag junk standard relat apart answer bottom 100 dream polit avoid similar advertis forget arent vocal romanc truth speak travel bed cook sequel ball search area deliv father warm amount scari masterpiec chanc late meet alon volum behind seriou relationship clearli burn fire gone sex soul market fli local carri advic literatur twice hero troubl remind otherwis imag roll tune director youv beyond societi ms translat cute guitar alot lose doubt admit singer bluray nearli correct metal window obvious fascin current hook tire build involv super plug rip america mostli somewhat success themselv frustrat discov ear pure deep remov unlik skin 50 bodi centuri creativ battl faith comment suspens fell becam de train offic eragon flat weight graphic upon trip straight shame photo thin plain cat grade cultur shot evil dialogu michael blade step teacher mark citi vh tool useless genr depth background switch red georg edg sweet sister despit process button front particular devic storylin cri hell respect bag onlin transfer french smell portray combin rang project green accur fix rare select imposs immedi colleg push toward across rice account introduct mess earth topic univers measur prefer comic stuck certain bunch defin typic limit option tolkien journey keurig la concert hollywood soundtrack serious share exist treat delight morn near credit digit captur mom lover loud self forev struggl prove sourc public town abil whether jam repeat teenag lesson drop jazz aspect jump summer flick murder brought regular shock secret challeng halloween pair soni ten "
     ]
    }
   ],
   "source": [
    "weights = run_lasso(x_train, y_train, 1e-3, \"hinge\")[0]\n",
    "interpret_weights(weights, word_labels)\n",
    "shave_training_set(weights, \"lasso_2\")"
   ]
  },
  {
   "cell_type": "code",
   "execution_count": 8,
   "metadata": {},
   "outputs": [
    {
     "name": "stdout",
     "output_type": "stream",
     "text": [
      "Running lasso with alpha = 0.0001 loss = hinge\n",
      "Using alpha = 0.0001 and loss = hinge\n",
      "Percent of words eliminated: 0.235\n",
      "Words eliminated: \n",
      "thi book like work stori think go cd song know thing music peopl watch give dvd need got star fan qualiti start write differ problem actual big kid turn may pretti quit around cover man away wait place reason came record fit pleas babi wish guy wont full three someon finish move hour special pick replac hold mind boy home excit daughter batteri clay rest unit women along goe cours view actor cut except english etc hit hous provid creat develop havent ye matter face king spend arriv black disc stand packag men compar offer dark talent recent touch refer pop 12 clear system wear avail screen fill histor lyric contain instal card group cup clean adult art emot insid major longer previou mysteri result requir modern oh lead notic moment deserv studi model teach role older knew insight illustr ad throughout messag expens walk busi posit known seller pull episod program section relat answer printer polit arent speak cook sequel search deliv behind seriou relationship clearli sex market local carri literatur twice remind imag tune director societi cute guitar alot doubt metal tire discov unlik skin 50 bodi battl fell train eragon upon photo thin cultur michael step citi tool genr depth georg sister despit front hell bag onlin smell immedi colleg push account topic univers measur prefer certain option la concert morn credit digit struggl whether teenag drop flick secret halloween pair soni "
     ]
    }
   ],
   "source": [
    "weights = run_lasso(x_train, y_train, 1e-4, \"hinge\")[0]\n",
    "interpret_weights(weights, word_labels)\n",
    "shave_training_set(weights, \"lasso_3\")"
   ]
  },
  {
   "cell_type": "code",
   "execution_count": 9,
   "metadata": {},
   "outputs": [
    {
     "name": "stdout",
     "output_type": "stream",
     "text": [
      "Running lasso with alpha = 1e-05 loss = hinge\n",
      "Using alpha = 1e-05 and loss = hinge\n",
      "Percent of words eliminated: 0.332\n",
      "Words eliminated: \n",
      "thi book read movi veri time get would ha hi use work make stori even becaus look want think go year cd better album ani way product song could know thing music say im review never peopl watch give find need made take come interest thought sound lot cant star fan anoth qualiti start write whi long part differ game novel order problem anyon actual real seri written origin plot nice though amazon big kid far sure turn may believ pretti quit cover man pictur edit word video reader fact wait let friend place anyth chang whole reason second done came record next call track true fit pleas mean band everyth babi wish son copi guy style size heard sever three hear children name finish move diaper begin perform hour effect follow light gener saw week pick young although replac open experi took coffe mind toy boy american home excit hand daughter batteri featur clay rest unit women color goe present cours view christma ill sens actor cut main except english human hit dri number issu develop opinion import face king spend arriv black disc fantasi stand figur packag men car compar offer dark talent anim note recent refer pamper phone cost clear sit system within wear avail screen lyric horror explain instal humor plastic card cup clean adult charg christian larg emot insid longer previou husband mysteri danc subject comedi requir oh lead pain cabl notic radio mother plu plan role older insight 15 attent parent throughout messag expens pack period walk handl known seller pull episod section scienc due standard relat answer printer advertis arent romanc speak sequel ball search scari chanc volum seriou clearli sex market fli twice societi ms cute doubt window tire discov remov unlik skin 50 bodi fell train weight upon photo thin cultur blade citi tool genr depth switch sister despit bag project green select colleg push account univers measur certain typic option la concert morn digit struggl town drop murder regular halloween pair soni "
     ]
    }
   ],
   "source": [
    "weights = run_lasso(x_train, y_train, 1e-5, \"hinge\")[0]\n",
    "interpret_weights(weights, word_labels)\n",
    "shave_training_set(weights, \"lasso_4\")"
   ]
  },
  {
   "cell_type": "code",
   "execution_count": 10,
   "metadata": {},
   "outputs": [
    {
     "name": "stdout",
     "output_type": "stream",
     "text": [
      "Running lasso with alpha = 1e-06 loss = hinge\n",
      "Using alpha = 1e-06 and loss = hinge\n",
      "Percent of words eliminated: 0.248\n",
      "Words eliminated: \n",
      "book one movi veri ha use dont make stori first even becaus film album ani way song see know thing charact say review peopl got old come interest put day thought cant star fan befor write someth show part help game anyon actual seri written us far pictur tell word fact away friend place reason done yet came record call action small releas wish couldnt copi size line might full voic someon children run begin hour follow light special alreadi open mind rock girl rate stuff simpli home excit batteri featur clay women close class color print along deal descript dure cours view writer ill actor type usual god english hit dri describ fiction head issu develop opinion havent imagin given matter comput king arriv fantasi stand packag offer talent anim possibl agre forward text phone pop clear sit system within screen histor custom humor certainli student card cup blue low larg emot insid mysteri danc fight comedi requir modern oh hair test notic radio camera adapt model older insight space throughout expens pack period walk format instruct pull memori program section dead softwar due answer printer advertis arent speak sequel search scari seriou fire sex soul twice remind tune societi translat cute doubt bluray metal tire unlik bodi suspens fell cultur shot step citi depth red cri bag french smell rang project accur select colleg toward across earth topic univers measur option keurig la concert morn credit digit loud forev struggl whether teenag regular halloween pair soni "
     ]
    }
   ],
   "source": [
    "weights = run_lasso(x_train, y_train, 1e-6, \"hinge\")[0]\n",
    "interpret_weights(weights, word_labels)\n",
    "shave_training_set(weights, \"lasso_5\")"
   ]
  },
  {
   "cell_type": "code",
   "execution_count": 11,
   "metadata": {},
   "outputs": [
    {
     "name": "stdout",
     "output_type": "stream",
     "text": [
      "Running lasso with alpha = 0.001 loss = squared_hinge\n",
      "Using alpha = 0.001 and loss = squared_hinge\n",
      "Percent of words eliminated: 0.0\n",
      "Words eliminated: \n"
     ]
    }
   ],
   "source": [
    "weights = run_lasso(x_train, y_train, 1e-3, \"squared_hinge\")[0]\n",
    "interpret_weights(weights, word_labels)\n",
    "shave_training_set(weights, \"squared_lasso\")"
   ]
  },
  {
   "cell_type": "code",
   "execution_count": null,
   "metadata": {},
   "outputs": [],
   "source": []
  }
 ],
 "metadata": {
  "kernelspec": {
   "display_name": "Python 3",
   "language": "python",
   "name": "python3"
  },
  "language_info": {
   "codemirror_mode": {
    "name": "ipython",
    "version": 3
   },
   "file_extension": ".py",
   "mimetype": "text/x-python",
   "name": "python",
   "nbconvert_exporter": "python",
   "pygments_lexer": "ipython3",
   "version": "3.5.2"
  }
 },
 "nbformat": 4,
 "nbformat_minor": 2
}

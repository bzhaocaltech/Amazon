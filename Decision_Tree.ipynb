{
 "cells": [
  {
   "cell_type": "code",
   "execution_count": 1,
   "metadata": {
    "collapsed": true
   },
   "outputs": [],
   "source": [
    "from sklearn import tree\n",
    "from sklearn.ensemble import RandomForestClassifier\n",
    "from cross_validate import CrossValidation\n",
    "import matplotlib.pyplot as plt\n",
    "import numpy as np\n",
    "import pickle\n",
    "%matplotlib inline\n",
    "\n",
    "# Seed the random number generator:\n",
    "np.random.seed(1)"
   ]
  },
  {
   "cell_type": "code",
   "execution_count": 2,
   "metadata": {
    "collapsed": false
   },
   "outputs": [],
   "source": [
    "# Load data\n",
    "x_train = pickle.load(open(\"x_train.p\", \"rb\"))\n",
    "y_train = pickle.load(open(\"y_train.p\", \"rb\"))\n",
    "x_test = pickle.load(open(\"x_test.p\", \"rb\"))\n",
    "labels = pickle.load(open(\"word_labels.p\", \"rb\"))"
   ]
  },
  {
   "cell_type": "code",
   "execution_count": 3,
   "metadata": {
    "collapsed": true
   },
   "outputs": [],
   "source": [
    "def eval_tree_based_model_max_depth(max_depth, estimators, k_fold_cross_validation, X_train, y_train):\n",
    "    accuracies = []\n",
    "    print(\"Running Random Forest classifier decision tree with max depth: \" \n",
    "              + str(max_depth))\n",
    "    print(\"and fold cross validation of: \" + str(k_fold_cross_validation))\n",
    "    cross_validated_data = CrossValidation(X_train, y_train, k_fold_cross_validation)\n",
    "    for i in range(k_fold_cross_validation):\n",
    "    \n",
    "        X_train, y_train = cross_validated_data.get_other_partitions(i)\n",
    "        x_test, y_test = cross_validated_data.get_partition(i)\n",
    "        clf = RandomForestClassifier(n_estimators = estimators, max_depth = max_depth, criterion='gini')\n",
    "        \n",
    "        clf.fit(X_train, y_train)\n",
    "        accuracies.append(clf.score(x_test,y_test))\n",
    "    average_accuracy = np.mean(accuracies)\n",
    "    print(\"Average accuracy was \" + str(average_accuracy))\n",
    "    return average_accuracy\n"
   ]
  },
  {
   "cell_type": "code",
   "execution_count": 6,
   "metadata": {
    "collapsed": false
   },
   "outputs": [
    {
     "name": "stdout",
     "output_type": "stream",
     "text": [
      "Running Random Forest classifier decision tree with max depth: 2\n",
      "and fold cross validation of: 10\n",
      "Average accuracy was 0.7458\n",
      "\n",
      "Running Random Forest classifier decision tree with max depth: 3\n",
      "and fold cross validation of: 10\n",
      "Average accuracy was 0.7652500000000001\n",
      "\n",
      "Running Random Forest classifier decision tree with max depth: 4\n",
      "and fold cross validation of: 10\n",
      "Average accuracy was 0.7761500000000001\n",
      "\n",
      "Running Random Forest classifier decision tree with max depth: 5\n",
      "and fold cross validation of: 10\n",
      "Average accuracy was 0.7786\n",
      "\n",
      "Running Random Forest classifier decision tree with max depth: 6\n",
      "and fold cross validation of: 10\n",
      "Average accuracy was 0.7862000000000001\n",
      "\n",
      "Running Random Forest classifier decision tree with max depth: 7\n",
      "and fold cross validation of: 10\n",
      "Average accuracy was 0.79145\n",
      "\n",
      "Running Random Forest classifier decision tree with max depth: 8\n",
      "and fold cross validation of: 10\n",
      "Average accuracy was 0.7918499999999999\n",
      "\n",
      "Running Random Forest classifier decision tree with max depth: 9\n",
      "and fold cross validation of: 10\n",
      "Average accuracy was 0.7926\n",
      "\n",
      "Running Random Forest classifier decision tree with max depth: 10\n",
      "and fold cross validation of: 10\n",
      "Average accuracy was 0.7952\n",
      "\n",
      "Running Random Forest classifier decision tree with max depth: 11\n",
      "and fold cross validation of: 10\n",
      "Average accuracy was 0.80005\n",
      "\n",
      "Running Random Forest classifier decision tree with max depth: 12\n",
      "and fold cross validation of: 10\n",
      "Average accuracy was 0.7989499999999999\n",
      "\n",
      "Running Random Forest classifier decision tree with max depth: 13\n",
      "and fold cross validation of: 10\n",
      "Average accuracy was 0.8001000000000001\n",
      "\n",
      "Running Random Forest classifier decision tree with max depth: 14\n",
      "and fold cross validation of: 10\n",
      "Average accuracy was 0.80385\n",
      "\n",
      "Running Random Forest classifier decision tree with max depth: 15\n",
      "and fold cross validation of: 10\n",
      "Average accuracy was 0.8044499999999999\n",
      "\n",
      "Running Random Forest classifier decision tree with max depth: 16\n",
      "and fold cross validation of: 10\n",
      "Average accuracy was 0.8077000000000002\n",
      "\n",
      "Running Random Forest classifier decision tree with max depth: 17\n",
      "and fold cross validation of: 10\n",
      "Average accuracy was 0.8107\n",
      "\n",
      "Running Random Forest classifier decision tree with max depth: 18\n",
      "and fold cross validation of: 10\n",
      "Average accuracy was 0.80655\n",
      "\n",
      "Running Random Forest classifier decision tree with max depth: 19\n",
      "and fold cross validation of: 10\n",
      "Average accuracy was 0.8103\n",
      "\n",
      "Running Random Forest classifier decision tree with max depth: 20\n",
      "and fold cross validation of: 10\n",
      "Average accuracy was 0.8130499999999999\n",
      "\n",
      "best depth: 20\n",
      "best score: 0.8130499999999999\n"
     ]
    }
   ],
   "source": [
    "n_estimators = 100\n",
    "\n",
    "#clf = RandomForestClassifier(n_estimators = n_estimators, criterion = 'gini')\n",
    "\n",
    "max_depth = np.arange(2, 21)\n",
    "scores = []\n",
    "best_depth = -1\n",
    "best_score = 0\n",
    "\n",
    "for depth in max_depth:\n",
    "    acc = eval_tree_based_model_max_depth(depth, n_estimators, 10, x_train, y_train)\n",
    "    scores.append(acc)\n",
    "    print(\"\")\n",
    "    if (acc > best_score):\n",
    "        best_depth = depth\n",
    "        best_score = acc\n",
    "    #plt.figure()\n",
    "    #plt.plot(max_depth, acc, label='Average Accuracy')\n",
    "    #plt.xlabel('Maximum Depth')\n",
    "    #plt.ylabel('Average Accuracy')\n",
    "    #plt.title('Random Forest with Gini Impurity and Maximum Depth')\n",
    "    #plt.legend(loc=0, shadow=True, fontsize='x-large')\n",
    "    #plt.show()\n",
    "\n",
    "#print('Accuracy maximized at max_depth = %i' % max_depth[np.argmax(acc)])\n",
    "\n",
    "print(\"best depth: \" + str(best_depth))\n",
    "print(\"best score: \" + str(best_score))"
   ]
  },
  {
   "cell_type": "code",
   "execution_count": 7,
   "metadata": {
    "collapsed": false
   },
   "outputs": [
    {
     "data": {
      "image/png": "[encoded data removed]",
      "text/plain": [
       "<matplotlib.figure.Figure at 0x1b647eae668>"
      ]
     },
     "metadata": {},
     "output_type": "display_data"
    }
   ],
   "source": [
    "plt.figure()\n",
    "plt.plot(max_depth, scores, label='Average Accuracy')\n",
    "plt.xlabel('Maximum Depth')\n",
    "plt.ylabel('Average Accuracy')\n",
    "plt.title('Random Forest with Gini Impurity and Maximum Depth')\n",
    "#plt.legend(loc=0, shadow=True, fontsize='x-large')\n",
    "plt.show()"
   ]
  },
  {
   "cell_type": "code",
   "execution_count": null,
   "metadata": {
    "collapsed": true
   },
   "outputs": [],
   "source": []
  }
 ],
 "metadata": {
  "kernelspec": {
   "display_name": "Python 3",
   "language": "python",
   "name": "python3"
  },
  "language_info": {
   "codemirror_mode": {
    "name": "ipython",
    "version": 3
   },
   "file_extension": ".py",
   "mimetype": "text/x-python",
   "name": "python",
   "nbconvert_exporter": "python",
   "pygments_lexer": "ipython3",
   "version": "3.6.0"
  }
 },
 "nbformat": 4,
 "nbformat_minor": 2
}

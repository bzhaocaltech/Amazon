{
 "cells": [
  {
   "cell_type": "markdown",
   "metadata": {},
   "source": [
    "Simple code testing out different support vector machines.\n",
    "Here we create a bunch of support vector machines with different values for C and different error measures. By then employing cross validation, we hope to determine which values of C and error measure is ideal for this SVM and\n",
    "data set"
   ]
  },
  {
   "cell_type": "code",
   "execution_count": 1,
   "metadata": {},
   "outputs": [],
   "source": [
    "# Imports\n",
    "import pickle\n",
    "from cross_validate import CrossValidation\n",
    "from sklearn.svm import LinearSVC\n",
    "import numpy as np\n",
    "import matplotlib.pyplot as plt\n",
    "%matplotlib inline"
   ]
  },
  {
   "cell_type": "code",
   "execution_count": 2,
   "metadata": {},
   "outputs": [],
   "source": [
    "# Load data\n",
    "x_train = pickle.load(open(\"x_train.p\", \"rb\"))\n",
    "y_train = pickle.load(open(\"y_train.p\", \"rb\"))"
   ]
  },
  {
   "cell_type": "code",
   "execution_count": 3,
   "metadata": {},
   "outputs": [],
   "source": [
    "# Fits a SVM with the attributes of C and loss\n",
    "# Uses x_data and y_data to fit the SVM\n",
    "# Employs k_fold_cross_validation to determine the test error\n",
    "# The average accuracy of the SVMs with k_fold_cross_validation is returned\n",
    "def run_SVM(x_data, y_data, k_fold_cross_validation, C, loss):\n",
    "    print(\"Running SVM with \" + str(k_fold_cross_validation) + \" fold cross validation.\")\n",
    "    print(\"Using C = \" + str(C) + \" and loss = \" + str(loss))\n",
    "    \n",
    "    cross_validated_data = CrossValidation(x_data, y_data, k_fold_cross_validation)\n",
    "    \n",
    "    accuracies = []\n",
    "    \n",
    "    for i in range(k_fold_cross_validation):\n",
    "        x_train, y_train = cross_validated_data.get_other_partitions(i)\n",
    "        x_test, y_test = cross_validated_data.get_partition(i)\n",
    "        \n",
    "        svc = LinearSVC(C = C, loss = loss)\n",
    "        svc.fit(x_train, y_train)\n",
    "        accuracies.append(svc.score(x_test, y_test))\n",
    "        \n",
    "    average_accuracy = np.mean(accuracies)\n",
    "    print(\"Average accuracy was \" + str(average_accuracy))\n",
    "    return average_accuracy"
   ]
  },
  {
   "cell_type": "code",
   "execution_count": 4,
   "metadata": {},
   "outputs": [
    {
     "name": "stdout",
     "output_type": "stream",
     "text": [
      "Running SVM with 10 fold cross validation.\n",
      "Using C = 1e-06 and loss = squared_hinge\n",
      "Average accuracy was 0.70805\n",
      "\n",
      "Running SVM with 10 fold cross validation.\n",
      "Using C = 1e-05 and loss = squared_hinge\n",
      "Average accuracy was 0.75915\n",
      "\n",
      "Running SVM with 10 fold cross validation.\n",
      "Using C = 0.0001 and loss = squared_hinge\n",
      "Average accuracy was 0.80845\n",
      "\n",
      "Running SVM with 10 fold cross validation.\n",
      "Using C = 0.001 and loss = squared_hinge\n",
      "Average accuracy was 0.84305\n",
      "\n",
      "Running SVM with 10 fold cross validation.\n",
      "Using C = 0.01 and loss = squared_hinge\n",
      "Average accuracy was 0.84915\n",
      "\n",
      "Running SVM with 10 fold cross validation.\n",
      "Using C = 0.1 and loss = squared_hinge\n",
      "Average accuracy was 0.8461\n",
      "\n",
      "Running SVM with 10 fold cross validation.\n",
      "Using C = 1.0 and loss = squared_hinge\n",
      "Average accuracy was 0.8455\n",
      "\n",
      "Running SVM with 10 fold cross validation.\n",
      "Using C = 10.0 and loss = squared_hinge\n",
      "Average accuracy was 0.8376\n",
      "\n",
      "Running SVM with 10 fold cross validation.\n",
      "Using C = 100.0 and loss = squared_hinge\n",
      "Average accuracy was 0.79555\n",
      "\n",
      "Running SVM with 10 fold cross validation.\n",
      "Using C = 1e-06 and loss = hinge\n",
      "Average accuracy was 0.682\n",
      "\n",
      "Running SVM with 10 fold cross validation.\n",
      "Using C = 1e-05 and loss = hinge\n",
      "Average accuracy was 0.682\n",
      "\n",
      "Running SVM with 10 fold cross validation.\n",
      "Using C = 0.0001 and loss = hinge\n",
      "Average accuracy was 0.7594\n",
      "\n",
      "Running SVM with 10 fold cross validation.\n",
      "Using C = 0.001 and loss = hinge\n",
      "Average accuracy was 0.82385\n",
      "\n",
      "Running SVM with 10 fold cross validation.\n",
      "Using C = 0.01 and loss = hinge\n",
      "Average accuracy was 0.847\n",
      "\n",
      "Running SVM with 10 fold cross validation.\n",
      "Using C = 0.1 and loss = hinge\n",
      "Average accuracy was 0.8484\n",
      "\n",
      "Running SVM with 10 fold cross validation.\n",
      "Using C = 1.0 and loss = hinge\n",
      "Average accuracy was 0.84525\n",
      "\n",
      "Running SVM with 10 fold cross validation.\n",
      "Using C = 10.0 and loss = hinge\n",
      "Average accuracy was 0.8423\n",
      "\n",
      "Running SVM with 10 fold cross validation.\n",
      "Using C = 100.0 and loss = hinge\n",
      "Average accuracy was 0.7859\n",
      "\n"
     ]
    }
   ],
   "source": [
    "# Fit the various models\n",
    "\n",
    "# Generate the different C values to use\n",
    "c_list = np.logspace(-6, 2, 9)\n",
    "\n",
    "squared_hinge_scores = []\n",
    "best_squared_hinge = -1\n",
    "best_squared_hinge_score = 0\n",
    "\n",
    "hinge_scores = []\n",
    "best_hinge = -1\n",
    "best_hinge_score = 0\n",
    "\n",
    "for c in c_list:\n",
    "    score = run_SVM(x_train, y_train, 10, c, \"squared_hinge\")\n",
    "    print(\"\")\n",
    "    squared_hinge_scores.append(score)\n",
    "    \n",
    "    if (score > best_squared_hinge_score):\n",
    "        best_squared_hinge_score = score\n",
    "        best_squared_hinge = c\n",
    "        \n",
    "for c in c_list:\n",
    "    score = run_SVM(x_train, y_train, 10, c, \"hinge\")\n",
    "    print(\"\")\n",
    "    hinge_scores.append(score)\n",
    "    \n",
    "    if (score > best_hinge_score):\n",
    "        best_hinge_score = score\n",
    "        best_hinge = c"
   ]
  },
  {
   "cell_type": "code",
   "execution_count": 5,
   "metadata": {},
   "outputs": [
    {
     "data": {
      "image/png": "[encoded data removed]",
      "text/plain": [
       "<matplotlib.figure.Figure at 0x7f71acdfb240>"
      ]
     },
     "metadata": {},
     "output_type": "display_data"
    },
    {
     "name": "stdout",
     "output_type": "stream",
     "text": [
      "Best C value for hinge was: 0.1. The accuracy for that was 0.8484\n",
      "Best C value for squared hinge was: 0.01. The accuracy for that was 0.84915\n"
     ]
    }
   ],
   "source": [
    "plt.plot(c_list, squared_hinge_scores, label = \"Squared Hinge\")\n",
    "plt.plot(c_list, hinge_scores, label = \"Hinge\")\n",
    "plt.xlabel(\"C\")\n",
    "plt.ylabel(\"Average Accuracy\")\n",
    "plt.xscale(\"log\")\n",
    "plt.legend()\n",
    "plt.show()\n",
    "\n",
    "print(\"Best C value for hinge was: \" + str(best_hinge) + \\\n",
    "      \". The accuracy for that was \" + str(best_hinge_score))\n",
    "print(\"Best C value for squared hinge was: \" + str(best_squared_hinge) + \\\n",
    "      \". The accuracy for that was \" + str(best_squared_hinge_score))"
   ]
  },
  {
   "cell_type": "code",
   "execution_count": 6,
   "metadata": {},
   "outputs": [],
   "source": [
    "# Import test data\n",
    "x_test = pickle.load(open(\"x_test.p\", \"rb\"))"
   ]
  },
  {
   "cell_type": "code",
   "execution_count": 7,
   "metadata": {},
   "outputs": [],
   "source": [
    "# Start fitting to test data. Output file inside of basic_svm.txt\n",
    "\n",
    "# The best SVM had a C value of 0.01 and a squared hinge loss function, so let's use that.\n",
    "svc = LinearSVC(C = 0.01, loss = \"squared_hinge\")\n",
    "svc.fit(x_train, y_train)\n",
    "\n",
    "predictions = svc.predict(x_test)\n",
    "ids = range(1, len(predictions) + 1)\n",
    "\n",
    "output = []\n",
    "for i in range(len(ids)):\n",
    "    output.append([ids[i], int(predictions[i])])\n",
    "\n",
    "# Output the submission file\n",
    "np.savetxt(open(\"models/basic_svm.txt\", \"wb\"), output, delimiter = \",\", newline = \"\\n\", fmt = \"%i\", \\\n",
    "           header = \"Id,Prediction\", comments = \"\")"
   ]
  }
 ],
 "metadata": {
  "kernelspec": {
   "display_name": "Python 3",
   "language": "python",
   "name": "python3"
  },
  "language_info": {
   "codemirror_mode": {
    "name": "ipython",
    "version": 3
   },
   "file_extension": ".py",
   "mimetype": "text/x-python",
   "name": "python",
   "nbconvert_exporter": "python",
   "pygments_lexer": "ipython3",
   "version": "3.5.2"
  }
 },
 "nbformat": 4,
 "nbformat_minor": 2
}
